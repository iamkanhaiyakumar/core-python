{
 "cells": [
  {
   "cell_type": "markdown",
   "id": "f634097b",
   "metadata": {},
   "source": [
    "## Numpy array and basics\n",
    "Learn about numpy "
   ]
  },
  {
   "cell_type": "code",
   "execution_count": 1,
   "id": "8e239679",
   "metadata": {},
   "outputs": [],
   "source": [
    "import numpy as np"
   ]
  },
  {
   "cell_type": "markdown",
   "id": "60218b39",
   "metadata": {},
   "source": [
    "creating array from list"
   ]
  }
 ],
 "metadata": {
  "kernelspec": {
   "display_name": "Python 3",
   "language": "python",
   "name": "python3"
  },
  "language_info": {
   "name": "python",
   "version": "3.12.7"
  }
 },
 "nbformat": 4,
 "nbformat_minor": 5
}
