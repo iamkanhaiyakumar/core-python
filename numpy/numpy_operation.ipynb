{
 "cells": [
  {
   "cell_type": "code",
   "execution_count": 2,
   "id": "bfdd97d0",
   "metadata": {},
   "outputs": [],
   "source": [
    "import numpy as np"
   ]
  },
  {
   "cell_type": "code",
   "execution_count": 3,
   "id": "dc26000d",
   "metadata": {},
   "outputs": [],
   "source": [
    "arr1=np.array([1, 2, 3, 4, 5])\n",
    "arr2=np.array([6, 7, 8, 9, 10])"
   ]
  },
  {
   "cell_type": "code",
   "execution_count": 4,
   "id": "2909e21f",
   "metadata": {},
   "outputs": [
    {
     "data": {
      "text/plain": [
       "array([-5, -5, -5, -5, -5])"
      ]
     },
     "execution_count": 4,
     "metadata": {},
     "output_type": "execute_result"
    }
   ],
   "source": [
    "arr1-arr2  # Element-wise subtraction"
   ]
  },
  {
   "cell_type": "code",
   "execution_count": 5,
   "id": "f77ae567",
   "metadata": {},
   "outputs": [
    {
     "data": {
      "text/plain": [
       "array([ 6, 14, 24, 36, 50])"
      ]
     },
     "execution_count": 5,
     "metadata": {},
     "output_type": "execute_result"
    }
   ],
   "source": [
    "arr1*arr2  # Element-wise multiplication (vector multiplication)"
   ]
  },
  {
   "cell_type": "code",
   "execution_count": 6,
   "id": "ecf8dba5",
   "metadata": {},
   "outputs": [
    {
     "data": {
      "text/plain": [
       "array([ 2,  4,  6,  8, 10])"
      ]
     },
     "execution_count": 6,
     "metadata": {},
     "output_type": "execute_result"
    }
   ],
   "source": [
    "arr1*2 #scalar multiplication"
   ]
  },
  {
   "cell_type": "code",
   "execution_count": 7,
   "id": "32ccb7e7",
   "metadata": {},
   "outputs": [
    {
     "data": {
      "text/plain": [
       "array([ True,  True,  True,  True,  True])"
      ]
     },
     "execution_count": 7,
     "metadata": {},
     "output_type": "execute_result"
    }
   ],
   "source": [
    "arr2>3"
   ]
  },
  {
   "cell_type": "code",
   "execution_count": 8,
   "id": "878b833a",
   "metadata": {},
   "outputs": [
    {
     "data": {
      "text/plain": [
       "array([False, False, False,  True,  True])"
      ]
     },
     "execution_count": 8,
     "metadata": {},
     "output_type": "execute_result"
    }
   ],
   "source": [
    "arr1>3"
   ]
  },
  {
   "cell_type": "code",
   "execution_count": 9,
   "id": "85645e1e",
   "metadata": {},
   "outputs": [],
   "source": [
    "arr3=np.arange(6).reshape(2, 3)  # Create a 2D array with shape (2, 3)\n",
    "arr4=np.arange(6, 12).reshape(3, 2)  # Create another 2D array with shape (2, 3)"
   ]
  },
  {
   "cell_type": "code",
   "execution_count": 10,
   "id": "53bcc308",
   "metadata": {},
   "outputs": [
    {
     "data": {
      "text/plain": [
       "array([[ 28,  31],\n",
       "       [100, 112]])"
      ]
     },
     "execution_count": 10,
     "metadata": {},
     "output_type": "execute_result"
    }
   ],
   "source": [
    "arr3.dot(arr4)"
   ]
  },
  {
   "cell_type": "code",
   "execution_count": 14,
   "id": "08797428",
   "metadata": {},
   "outputs": [
    {
     "data": {
      "text/plain": [
       "np.int64(130)"
      ]
     },
     "execution_count": 14,
     "metadata": {},
     "output_type": "execute_result"
    }
   ],
   "source": [
    "arr1.dot(arr2)"
   ]
  },
  {
   "cell_type": "code",
   "execution_count": 15,
   "id": "4b0fd7f5",
   "metadata": {},
   "outputs": [
    {
     "ename": "ValueError",
     "evalue": "shapes (5,) and (2,3) not aligned: 5 (dim 0) != 2 (dim 0)",
     "output_type": "error",
     "traceback": [
      "\u001b[1;31m---------------------------------------------------------------------------\u001b[0m",
      "\u001b[1;31mValueError\u001b[0m                                Traceback (most recent call last)",
      "Cell \u001b[1;32mIn[15], line 1\u001b[0m\n\u001b[1;32m----> 1\u001b[0m \u001b[43marr1\u001b[49m\u001b[38;5;241;43m.\u001b[39;49m\u001b[43mdot\u001b[49m\u001b[43m(\u001b[49m\u001b[43marr3\u001b[49m\u001b[43m)\u001b[49m\n",
      "\u001b[1;31mValueError\u001b[0m: shapes (5,) and (2,3) not aligned: 5 (dim 0) != 2 (dim 0)"
     ]
    }
   ],
   "source": [
    "arr1.dot(arr3)"
   ]
  },
  {
   "cell_type": "code",
   "execution_count": 16,
   "id": "441ed5ed",
   "metadata": {},
   "outputs": [
    {
     "data": {
      "text/plain": [
       "array([[ 6,  7],\n",
       "       [ 8,  9],\n",
       "       [10, 11]])"
      ]
     },
     "execution_count": 16,
     "metadata": {},
     "output_type": "execute_result"
    }
   ],
   "source": [
    "arr4"
   ]
  },
  {
   "cell_type": "code",
   "execution_count": 17,
   "id": "475e245a",
   "metadata": {},
   "outputs": [
    {
     "data": {
      "text/plain": [
       "np.int64(6)"
      ]
     },
     "execution_count": 17,
     "metadata": {},
     "output_type": "execute_result"
    }
   ],
   "source": [
    "arr4.min()"
   ]
  },
  {
   "cell_type": "code",
   "execution_count": 18,
   "id": "739ff739",
   "metadata": {},
   "outputs": [
    {
     "data": {
      "text/plain": [
       "np.int64(11)"
      ]
     },
     "execution_count": 18,
     "metadata": {},
     "output_type": "execute_result"
    }
   ],
   "source": [
    "arr4.max()"
   ]
  },
  {
   "cell_type": "code",
   "execution_count": 19,
   "id": "564decec",
   "metadata": {},
   "outputs": [
    {
     "data": {
      "text/plain": [
       "array([6, 7])"
      ]
     },
     "execution_count": 19,
     "metadata": {},
     "output_type": "execute_result"
    }
   ],
   "source": [
    "arr4.min(axis=0)"
   ]
  },
  {
   "cell_type": "code",
   "execution_count": 20,
   "id": "5c5b1eb2",
   "metadata": {},
   "outputs": [
    {
     "data": {
      "text/plain": [
       "array([ 6,  8, 10])"
      ]
     },
     "execution_count": 20,
     "metadata": {},
     "output_type": "execute_result"
    }
   ],
   "source": [
    "arr4.min(axis=1)"
   ]
  },
  {
   "cell_type": "code",
   "execution_count": 21,
   "id": "bdb8644b",
   "metadata": {},
   "outputs": [
    {
     "data": {
      "text/plain": [
       "np.int64(51)"
      ]
     },
     "execution_count": 21,
     "metadata": {},
     "output_type": "execute_result"
    }
   ],
   "source": [
    "arr4.sum()"
   ]
  },
  {
   "cell_type": "code",
   "execution_count": 22,
   "id": "63499400",
   "metadata": {},
   "outputs": [
    {
     "data": {
      "text/plain": [
       "array([24, 27])"
      ]
     },
     "execution_count": 22,
     "metadata": {},
     "output_type": "execute_result"
    }
   ],
   "source": [
    "arr4.sum(axis=0)"
   ]
  },
  {
   "cell_type": "code",
   "execution_count": 23,
   "id": "d715d4f8",
   "metadata": {},
   "outputs": [
    {
     "data": {
      "text/plain": [
       "np.float64(8.5)"
      ]
     },
     "execution_count": 23,
     "metadata": {},
     "output_type": "execute_result"
    }
   ],
   "source": [
    "arr4.mean()"
   ]
  },
  {
   "cell_type": "code",
   "execution_count": 24,
   "id": "feafdb2d",
   "metadata": {},
   "outputs": [
    {
     "ename": "AttributeError",
     "evalue": "'numpy.ndarray' object has no attribute 'median'",
     "output_type": "error",
     "traceback": [
      "\u001b[1;31m---------------------------------------------------------------------------\u001b[0m",
      "\u001b[1;31mAttributeError\u001b[0m                            Traceback (most recent call last)",
      "Cell \u001b[1;32mIn[24], line 1\u001b[0m\n\u001b[1;32m----> 1\u001b[0m \u001b[43marr4\u001b[49m\u001b[38;5;241;43m.\u001b[39;49m\u001b[43mmedian\u001b[49m()\n",
      "\u001b[1;31mAttributeError\u001b[0m: 'numpy.ndarray' object has no attribute 'median'"
     ]
    }
   ],
   "source": [
    "arr4.median()"
   ]
  },
  {
   "cell_type": "code",
   "execution_count": 25,
   "id": "3de73517",
   "metadata": {},
   "outputs": [
    {
     "data": {
      "text/plain": [
       "np.float64(1.707825127659933)"
      ]
     },
     "execution_count": 25,
     "metadata": {},
     "output_type": "execute_result"
    }
   ],
   "source": [
    "arr4.std() # Standard deviation"
   ]
  },
  {
   "cell_type": "code",
   "execution_count": 26,
   "id": "4f5d1db4",
   "metadata": {},
   "outputs": [
    {
     "ename": "AttributeError",
     "evalue": "'numpy.ndarray' object has no attribute 'sin'",
     "output_type": "error",
     "traceback": [
      "\u001b[1;31m---------------------------------------------------------------------------\u001b[0m",
      "\u001b[1;31mAttributeError\u001b[0m                            Traceback (most recent call last)",
      "Cell \u001b[1;32mIn[26], line 1\u001b[0m\n\u001b[1;32m----> 1\u001b[0m \u001b[43marr4\u001b[49m\u001b[38;5;241;43m.\u001b[39;49m\u001b[43msin\u001b[49m()\n",
      "\u001b[1;31mAttributeError\u001b[0m: 'numpy.ndarray' object has no attribute 'sin'"
     ]
    }
   ],
   "source": [
    "arr4.sin()"
   ]
  },
  {
   "cell_type": "code",
   "execution_count": 27,
   "id": "95cdb91a",
   "metadata": {},
   "outputs": [
    {
     "data": {
      "text/plain": [
       "array([[-0.2794155 ,  0.6569866 ],\n",
       "       [ 0.98935825,  0.41211849],\n",
       "       [-0.54402111, -0.99999021]])"
      ]
     },
     "execution_count": 27,
     "metadata": {},
     "output_type": "execute_result"
    }
   ],
   "source": [
    "np.sin(arr4)"
   ]
  },
  {
   "cell_type": "code",
   "execution_count": 28,
   "id": "c8e107bc",
   "metadata": {},
   "outputs": [
    {
     "data": {
      "text/plain": [
       "np.float64(8.5)"
      ]
     },
     "execution_count": 28,
     "metadata": {},
     "output_type": "execute_result"
    }
   ],
   "source": [
    "np.median(arr4)  # Median of the entire array"
   ]
  },
  {
   "cell_type": "code",
   "execution_count": 29,
   "id": "a9eea892",
   "metadata": {},
   "outputs": [
    {
     "data": {
      "text/plain": [
       "array([[  403.42879349,  1096.63315843],\n",
       "       [ 2980.95798704,  8103.08392758],\n",
       "       [22026.46579481, 59874.1417152 ]])"
      ]
     },
     "execution_count": 29,
     "metadata": {},
     "output_type": "execute_result"
    }
   ],
   "source": [
    "np.exp(arr4)  # Element-wise exponential"
   ]
  },
  {
   "cell_type": "markdown",
   "id": "0cf50d7a",
   "metadata": {},
   "source": [
    "## Reshaping Numpy Array"
   ]
  },
  {
   "cell_type": "code",
   "execution_count": 30,
   "id": "c6ef4f30",
   "metadata": {},
   "outputs": [
    {
     "data": {
      "text/plain": [
       "array([[ 6,  7],\n",
       "       [ 8,  9],\n",
       "       [10, 11]])"
      ]
     },
     "execution_count": 30,
     "metadata": {},
     "output_type": "execute_result"
    }
   ],
   "source": [
    "arr4"
   ]
  },
  {
   "cell_type": "code",
   "execution_count": 31,
   "id": "7219dd1b",
   "metadata": {},
   "outputs": [
    {
     "data": {
      "text/plain": [
       "2"
      ]
     },
     "execution_count": 31,
     "metadata": {},
     "output_type": "execute_result"
    }
   ],
   "source": [
    "arr4.ndim"
   ]
  },
  {
   "cell_type": "code",
   "execution_count": 32,
   "id": "57b6d3b9",
   "metadata": {},
   "outputs": [
    {
     "data": {
      "text/plain": [
       "array([ 6,  7,  8,  9, 10, 11])"
      ]
     },
     "execution_count": 32,
     "metadata": {},
     "output_type": "execute_result"
    }
   ],
   "source": [
    "arr4.ravel() # Flatten the array"
   ]
  },
  {
   "cell_type": "code",
   "execution_count": 33,
   "id": "752c61a1",
   "metadata": {},
   "outputs": [
    {
     "data": {
      "text/plain": [
       "array([[ 6,  7,  8],\n",
       "       [ 9, 10, 11]])"
      ]
     },
     "execution_count": 33,
     "metadata": {},
     "output_type": "execute_result"
    }
   ],
   "source": [
    "arr4.reshape(2, 3)  # Reshape to (2, 3)"
   ]
  },
  {
   "cell_type": "code",
   "execution_count": 34,
   "id": "03b960e5",
   "metadata": {},
   "outputs": [
    {
     "data": {
      "text/plain": [
       "array([[ 6,  8, 10],\n",
       "       [ 7,  9, 11]])"
      ]
     },
     "execution_count": 34,
     "metadata": {},
     "output_type": "execute_result"
    }
   ],
   "source": [
    "arr4.transpose()  # Transpose the array"
   ]
  },
  {
   "cell_type": "code",
   "execution_count": 35,
   "id": "d1992b8f",
   "metadata": {},
   "outputs": [],
   "source": [
    "arr5= arr4.transpose()  # Transpose the array"
   ]
  },
  {
   "cell_type": "code",
   "execution_count": 36,
   "id": "ab4d99bf",
   "metadata": {},
   "outputs": [
    {
     "data": {
      "text/plain": [
       "array([[0, 1, 2],\n",
       "       [3, 4, 5]])"
      ]
     },
     "execution_count": 36,
     "metadata": {},
     "output_type": "execute_result"
    }
   ],
   "source": [
    "arr3"
   ]
  },
  {
   "cell_type": "code",
   "execution_count": 37,
   "id": "2b76f62e",
   "metadata": {},
   "outputs": [],
   "source": [
    "arr5=np.arange(12,18).reshape(2, 3)"
   ]
  },
  {
   "cell_type": "code",
   "execution_count": 38,
   "id": "e6c93b44",
   "metadata": {},
   "outputs": [
    {
     "data": {
      "text/plain": [
       "array([[12, 13, 14],\n",
       "       [15, 16, 17]])"
      ]
     },
     "execution_count": 38,
     "metadata": {},
     "output_type": "execute_result"
    }
   ],
   "source": [
    "arr5"
   ]
  },
  {
   "cell_type": "code",
   "execution_count": 39,
   "id": "6cd91462",
   "metadata": {},
   "outputs": [
    {
     "data": {
      "text/plain": [
       "array([[12, 13, 14],\n",
       "       [15, 16, 17],\n",
       "       [ 0,  1,  2],\n",
       "       [ 3,  4,  5]])"
      ]
     },
     "execution_count": 39,
     "metadata": {},
     "output_type": "execute_result"
    }
   ],
   "source": [
    "np.vstack((arr5, arr3))  # Vertical stack of arr5 and arr3"
   ]
  },
  {
   "cell_type": "code",
   "execution_count": 40,
   "id": "5d5fcedc",
   "metadata": {},
   "outputs": [
    {
     "data": {
      "text/plain": [
       "array([[12, 13, 14,  0,  1,  2],\n",
       "       [15, 16, 17,  3,  4,  5]])"
      ]
     },
     "execution_count": 40,
     "metadata": {},
     "output_type": "execute_result"
    }
   ],
   "source": [
    "np.hstack((arr5, arr3))"
   ]
  },
  {
   "cell_type": "code",
   "execution_count": null,
   "id": "15ed0bfa",
   "metadata": {},
   "outputs": [],
   "source": []
  }
 ],
 "metadata": {
  "kernelspec": {
   "display_name": "Python 3",
   "language": "python",
   "name": "python3"
  },
  "language_info": {
   "codemirror_mode": {
    "name": "ipython",
    "version": 3
   },
   "file_extension": ".py",
   "mimetype": "text/x-python",
   "name": "python",
   "nbconvert_exporter": "python",
   "pygments_lexer": "ipython3",
   "version": "3.12.7"
  }
 },
 "nbformat": 4,
 "nbformat_minor": 5
}
