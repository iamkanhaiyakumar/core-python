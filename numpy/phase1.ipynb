{
 "cells": [
  {
   "cell_type": "markdown",
   "id": "a7e3db53",
   "metadata": {},
   "source": [
    "#Learn About Numpy"
   ]
  },
  {
   "cell_type": "code",
   "execution_count": 1,
   "id": "98dc444c",
   "metadata": {},
   "outputs": [],
   "source": [
    "import numpy as np"
   ]
  },
  {
   "cell_type": "markdown",
   "id": "6c5173a3",
   "metadata": {},
   "source": [
    "#Creating Array From List"
   ]
  },
  {
   "cell_type": "code",
   "execution_count": 10,
   "id": "4e5b474a",
   "metadata": {},
   "outputs": [
    {
     "name": "stdout",
     "output_type": "stream",
     "text": [
      "1D Array: [1 2 3 4 5]\n",
      "2D Array:\n",
      " [[1 2 3]\n",
      " [4 5 6]]\n"
     ]
    }
   ],
   "source": [
    "arr_1d = np.array([1, 2, 3, 4, 5])\n",
    "print(\"1D Array:\", arr_1d)\n",
    "\n",
    "arr_2d = np.array([[1, 2, 3], [4, 5, 6]])\n",
    "print(\"2D Array:\\n\", arr_2d)"
   ]
  },
  {
   "cell_type": "code",
   "execution_count": 15,
   "id": "023bbda6",
   "metadata": {},
   "outputs": [
    {
     "data": {
      "text/plain": [
       "numpy.ndarray"
      ]
     },
     "execution_count": 15,
     "metadata": {},
     "output_type": "execute_result"
    }
   ],
   "source": [
    "type(arr_1d)  # Check the type of the 1D array\n",
    "type(arr_2d)  # Check the type of the 2D array"
   ]
  },
  {
   "cell_type": "code",
   "execution_count": 16,
   "id": "ea3e3479",
   "metadata": {},
   "outputs": [
    {
     "name": "stdout",
     "output_type": "stream",
     "text": [
      "2D Array of Zeros:\n",
      " [[0. 0. 0.]\n",
      " [0. 0. 0.]]\n"
     ]
    }
   ],
   "source": [
    "arr3=np.zeros((2, 3))  # Create a 2D array of zeros\n",
    "print(\"2D Array of Zeros:\\n\", arr3)"
   ]
  },
  {
   "cell_type": "code",
   "execution_count": 24,
   "id": "2e145d97",
   "metadata": {},
   "outputs": [
    {
     "name": "stdout",
     "output_type": "stream",
     "text": [
      "Identity Matrix:\n",
      " [[1. 0. 0.]\n",
      " [0. 1. 0.]\n",
      " [0. 0. 1.]]\n"
     ]
    }
   ],
   "source": [
    "arr5=np.identity(3)  # Create a 3x3 identity matrix\n",
    "print(\"Identity Matrix:\\n\", arr5)"
   ]
  },
  {
   "cell_type": "code",
   "execution_count": 25,
   "id": "e1a149a3",
   "metadata": {},
   "outputs": [
    {
     "name": "stdout",
     "output_type": "stream",
     "text": [
      "Array with arange:\n",
      " [0 1 2 3 4 5 6 7 8 9]\n"
     ]
    }
   ],
   "source": [
    "arr6=np.arange(10)\n",
    "print(\"Array with arange:\\n\", arr6)"
   ]
  },
  {
   "cell_type": "markdown",
   "id": "e045e550",
   "metadata": {},
   "source": [
    "#List Vs Numpy Array"
   ]
  },
  {
   "cell_type": "code",
   "execution_count": 11,
   "id": "7e22164f",
   "metadata": {},
   "outputs": [
    {
     "name": "stdout",
     "output_type": "stream",
     "text": [
      "Python list multiplication  [1, 2, 3, 1, 2, 3]\n",
      "Python array multiplication  [2 4 6]\n",
      "\n",
      " List operation time:  0.1282641887664795\n",
      "\n",
      " Numpy operation time:  0.004999876022338867\n"
     ]
    }
   ],
   "source": [
    "py_list = [1, 2, 3]\n",
    "print(\"Python list multiplication \", py_list * 2)\n",
    "\n",
    "\n",
    "np_array = np.array([1, 2, 3]) #element wise multiplication\n",
    "print(\"Python array multiplication \", np_array * 2)\n",
    "\n",
    "import time\n",
    "start = time.time()\n",
    "py_list = [i*2 for i in range(1000000)]\n",
    "print(\"\\n List operation time: \", time.time() - start)\n",
    "\n",
    "start = time.time()\n",
    "np_array = np.arange(1000000) * 2\n",
    "print(\"\\n Numpy operation time: \", time.time() - start)"
   ]
  }
 ],
 "metadata": {
  "kernelspec": {
   "display_name": "Python 3",
   "language": "python",
   "name": "python3"
  },
  "language_info": {
   "codemirror_mode": {
    "name": "ipython",
    "version": 3
   },
   "file_extension": ".py",
   "mimetype": "text/x-python",
   "name": "python",
   "nbconvert_exporter": "python",
   "pygments_lexer": "ipython3",
   "version": "3.12.7"
  }
 },
 "nbformat": 4,
 "nbformat_minor": 5
}
