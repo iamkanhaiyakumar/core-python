{
 "cells": [
  {
   "cell_type": "markdown",
   "id": "a7e3db53",
   "metadata": {},
   "source": [
    "#Learn About Numpy"
   ]
  },
  {
   "cell_type": "code",
   "execution_count": 1,
   "id": "98dc444c",
   "metadata": {},
   "outputs": [],
   "source": [
    "import numpy as np"
   ]
  },
  {
   "cell_type": "markdown",
   "id": "6c5173a3",
   "metadata": {},
   "source": [
    "#Creating Array From List"
   ]
  },
  {
   "cell_type": "code",
   "execution_count": 2,
   "id": "4e5b474a",
   "metadata": {},
   "outputs": [
    {
     "name": "stdout",
     "output_type": "stream",
     "text": [
      "1D Array: [1 2 3 4 5]\n",
      "2D Array:\n",
      " [[1 2 3]\n",
      " [4 5 6]]\n"
     ]
    }
   ],
   "source": [
    "arr_1d = np.array([1, 2, 3, 4, 5])\n",
    "print(\"1D Array:\", arr_1d)\n",
    "\n",
    "arr_2d = np.array([[1, 2, 3], [4, 5, 6]])\n",
    "print(\"2D Array:\\n\", arr_2d)"
   ]
  },
  {
   "cell_type": "code",
   "execution_count": 3,
   "id": "023bbda6",
   "metadata": {},
   "outputs": [
    {
     "data": {
      "text/plain": [
       "numpy.ndarray"
      ]
     },
     "execution_count": 3,
     "metadata": {},
     "output_type": "execute_result"
    }
   ],
   "source": [
    "type(arr_1d)  # Check the type of the 1D array\n",
    "type(arr_2d)  # Check the type of the 2D array"
   ]
  },
  {
   "cell_type": "code",
   "execution_count": 4,
   "id": "ea3e3479",
   "metadata": {},
   "outputs": [
    {
     "name": "stdout",
     "output_type": "stream",
     "text": [
      "2D Array of Zeros:\n",
      " [[0. 0. 0.]\n",
      " [0. 0. 0.]]\n"
     ]
    }
   ],
   "source": [
    "arr3=np.zeros((2, 3))  # Create a 2D array of zeros\n",
    "print(\"2D Array of Zeros:\\n\", arr3)"
   ]
  },
  {
   "cell_type": "code",
   "execution_count": 5,
   "id": "2e145d97",
   "metadata": {},
   "outputs": [
    {
     "name": "stdout",
     "output_type": "stream",
     "text": [
      "Identity Matrix:\n",
      " [[1. 0. 0.]\n",
      " [0. 1. 0.]\n",
      " [0. 0. 1.]]\n"
     ]
    }
   ],
   "source": [
    "arr5=np.identity(3)  # Create a 3x3 identity matrix\n",
    "print(\"Identity Matrix:\\n\", arr5)"
   ]
  },
  {
   "cell_type": "code",
   "execution_count": 6,
   "id": "e1a149a3",
   "metadata": {},
   "outputs": [
    {
     "name": "stdout",
     "output_type": "stream",
     "text": [
      "Array with arange:\n",
      " [0 1 2 3 4 5 6 7 8 9]\n"
     ]
    }
   ],
   "source": [
    "arr6=np.arange(10)\n",
    "print(\"Array with arange:\\n\", arr6)"
   ]
  },
  {
   "cell_type": "code",
   "execution_count": 7,
   "id": "ae6806c8",
   "metadata": {},
   "outputs": [
    {
     "name": "stdout",
     "output_type": "stream",
     "text": [
      "Array with linspace:\n",
      " [ 1.  2.  3.  4.  5.  6.  7.  8.  9. 10.]\n"
     ]
    }
   ],
   "source": [
    "arr7=np.linspace(1, 10, 10)  # Create an array with 5 evenly spaced values between 0 and 1\n",
    "print(\"Array with linspace:\\n\", arr7)"
   ]
  },
  {
   "cell_type": "code",
   "execution_count": 8,
   "id": "43a709de",
   "metadata": {},
   "outputs": [
    {
     "name": "stdout",
     "output_type": "stream",
     "text": [
      "Copied Array:\n",
      " [ 1.  2.  3.  4.  5.  6.  7.  8.  9. 10.]\n"
     ]
    }
   ],
   "source": [
    "arr8=arr7.copy()\n",
    "print(\"Copied Array:\\n\", arr8)"
   ]
  },
  {
   "cell_type": "code",
   "execution_count": 9,
   "id": "ed2f869f",
   "metadata": {},
   "outputs": [
    {
     "data": {
      "text/plain": [
       "(5,)"
      ]
     },
     "execution_count": 9,
     "metadata": {},
     "output_type": "execute_result"
    }
   ],
   "source": [
    "arr_1d.shape"
   ]
  },
  {
   "cell_type": "code",
   "execution_count": 10,
   "id": "c2a71a0e",
   "metadata": {},
   "outputs": [
    {
     "data": {
      "text/plain": [
       "(2, 3)"
      ]
     },
     "execution_count": 10,
     "metadata": {},
     "output_type": "execute_result"
    }
   ],
   "source": [
    "arr3.shape"
   ]
  },
  {
   "cell_type": "code",
   "execution_count": 11,
   "id": "bd617371",
   "metadata": {},
   "outputs": [
    {
     "name": "stdout",
     "output_type": "stream",
     "text": [
      "3D Array:\n",
      " [[[1 2]\n",
      "  [3 4]]\n",
      "\n",
      " [[5 6]\n",
      "  [7 8]]]\n"
     ]
    }
   ],
   "source": [
    "arr9=np.array([[[1, 2], [3, 4]], [[5, 6], [7, 8]]])  # Create a 3D array\n",
    "print(\"3D Array:\\n\", arr9)"
   ]
  },
  {
   "cell_type": "code",
   "execution_count": 12,
   "id": "a42d5ef8",
   "metadata": {},
   "outputs": [
    {
     "data": {
      "text/plain": [
       "(2, 2, 2)"
      ]
     },
     "execution_count": 12,
     "metadata": {},
     "output_type": "execute_result"
    }
   ],
   "source": [
    "arr9.shape"
   ]
  },
  {
   "cell_type": "code",
   "execution_count": 13,
   "id": "a9decdf2",
   "metadata": {},
   "outputs": [
    {
     "data": {
      "text/plain": [
       "3"
      ]
     },
     "execution_count": 13,
     "metadata": {},
     "output_type": "execute_result"
    }
   ],
   "source": [
    "arr9.ndim  # Check the number of dimensions of the 3D array"
   ]
  },
  {
   "cell_type": "code",
   "execution_count": 14,
   "id": "fae92e9b",
   "metadata": {},
   "outputs": [
    {
     "data": {
      "text/plain": [
       "2"
      ]
     },
     "execution_count": 14,
     "metadata": {},
     "output_type": "execute_result"
    }
   ],
   "source": [
    "arr_2d.ndim "
   ]
  },
  {
   "cell_type": "code",
   "execution_count": 15,
   "id": "2625015e",
   "metadata": {},
   "outputs": [
    {
     "data": {
      "text/plain": [
       "8"
      ]
     },
     "execution_count": 15,
     "metadata": {},
     "output_type": "execute_result"
    }
   ],
   "source": [
    "arr9.size"
   ]
  },
  {
   "cell_type": "code",
   "execution_count": 16,
   "id": "436f8704",
   "metadata": {},
   "outputs": [
    {
     "data": {
      "text/plain": [
       "8"
      ]
     },
     "execution_count": 16,
     "metadata": {},
     "output_type": "execute_result"
    }
   ],
   "source": [
    "arr9.itemsize"
   ]
  },
  {
   "cell_type": "code",
   "execution_count": 17,
   "id": "ea2354ce",
   "metadata": {},
   "outputs": [
    {
     "data": {
      "text/plain": [
       "8"
      ]
     },
     "execution_count": 17,
     "metadata": {},
     "output_type": "execute_result"
    }
   ],
   "source": [
    "arr8.itemsize"
   ]
  },
  {
   "cell_type": "code",
   "execution_count": 18,
   "id": "1ff8bde9",
   "metadata": {},
   "outputs": [
    {
     "data": {
      "text/plain": [
       "dtype('int64')"
      ]
     },
     "execution_count": 18,
     "metadata": {},
     "output_type": "execute_result"
    }
   ],
   "source": [
    "arr9.dtype  # Check the data type of the elements in the 3D array"
   ]
  },
  {
   "cell_type": "code",
   "execution_count": 19,
   "id": "3348bef0",
   "metadata": {},
   "outputs": [
    {
     "data": {
      "text/plain": [
       "dtype('float64')"
      ]
     },
     "execution_count": 19,
     "metadata": {},
     "output_type": "execute_result"
    }
   ],
   "source": [
    "arr7.dtype  # Check the data type of the elements in the 1D array created with linspace"
   ]
  },
  {
   "cell_type": "code",
   "execution_count": 20,
   "id": "611eb478",
   "metadata": {},
   "outputs": [
    {
     "data": {
      "text/plain": [
       "<function ndarray.astype>"
      ]
     },
     "execution_count": 20,
     "metadata": {},
     "output_type": "execute_result"
    }
   ],
   "source": [
    "arr9.astype"
   ]
  },
  {
   "cell_type": "code",
   "execution_count": 21,
   "id": "fda07967",
   "metadata": {},
   "outputs": [
    {
     "data": {
      "text/plain": [
       "array([[[1., 2.],\n",
       "        [3., 4.]],\n",
       "\n",
       "       [[5., 6.],\n",
       "        [7., 8.]]])"
      ]
     },
     "execution_count": 21,
     "metadata": {},
     "output_type": "execute_result"
    }
   ],
   "source": [
    "arr9.astype('float')  # Convert the 3D array to float type"
   ]
  },
  {
   "cell_type": "code",
   "execution_count": 22,
   "id": "9fb38e9d",
   "metadata": {},
   "outputs": [
    {
     "data": {
      "text/plain": [
       "array([[[1, 2],\n",
       "        [3, 4]],\n",
       "\n",
       "       [[5, 6],\n",
       "        [7, 8]]])"
      ]
     },
     "execution_count": 22,
     "metadata": {},
     "output_type": "execute_result"
    }
   ],
   "source": [
    "arr9.astype('int')  # Convert the 3D array to int type"
   ]
  },
  {
   "cell_type": "markdown",
   "id": "e045e550",
   "metadata": {},
   "source": [
    "#List Vs Numpy Array"
   ]
  },
  {
   "cell_type": "code",
   "execution_count": 23,
   "id": "7e22164f",
   "metadata": {},
   "outputs": [
    {
     "name": "stdout",
     "output_type": "stream",
     "text": [
      "Python list multiplication  [1, 2, 3, 1, 2, 3]\n",
      "Python array multiplication  [2 4 6]\n",
      "\n",
      " List operation time:  0.1984405517578125\n",
      "\n",
      " Numpy operation time:  0.01140904426574707\n"
     ]
    }
   ],
   "source": [
    "py_list = [1, 2, 3]\n",
    "print(\"Python list multiplication \", py_list * 2)\n",
    "\n",
    "\n",
    "np_array = np.array([1, 2, 3]) #element wise multiplication\n",
    "print(\"Python array multiplication \", np_array * 2)\n",
    "\n",
    "import time\n",
    "start = time.time()\n",
    "py_list = [i*2 for i in range(1000000)]\n",
    "print(\"\\n List operation time: \", time.time() - start)\n",
    "\n",
    "start = time.time()\n",
    "np_array = np.arange(1000000) * 2\n",
    "\n",
    "print(\"\\n Numpy operation time: \", time.time() - start)"
   ]
  },
  {
   "cell_type": "code",
   "execution_count": 24,
   "id": "b99d08e1",
   "metadata": {},
   "outputs": [],
   "source": [
    "lista = range(100)\n",
    "arr11=np.arange(100)"
   ]
  },
  {
   "cell_type": "code",
   "execution_count": 25,
   "id": "252ee727",
   "metadata": {},
   "outputs": [],
   "source": [
    "import sys"
   ]
  },
  {
   "cell_type": "code",
   "execution_count": 26,
   "id": "3539a14f",
   "metadata": {},
   "outputs": [
    {
     "name": "stdout",
     "output_type": "stream",
     "text": [
      "2800\n"
     ]
    }
   ],
   "source": [
    "print (sys.getsizeof(87)*len(lista))"
   ]
  },
  {
   "cell_type": "code",
   "execution_count": 27,
   "id": "335756ea",
   "metadata": {},
   "outputs": [
    {
     "name": "stdout",
     "output_type": "stream",
     "text": [
      "800\n"
     ]
    }
   ],
   "source": [
    "print(arr11.itemsize*arr11.size)"
   ]
  },
  {
   "cell_type": "code",
   "execution_count": 28,
   "id": "fe2c0e6c",
   "metadata": {},
   "outputs": [],
   "source": [
    "import time"
   ]
  },
  {
   "cell_type": "code",
   "execution_count": 29,
   "id": "618bc32b",
   "metadata": {},
   "outputs": [
    {
     "name": "stdout",
     "output_type": "stream",
     "text": [
      "Time taken for list comprehension:  0.48040151596069336\n",
      "Time taken for list comprehension with addition:  0.8847582340240479\n"
     ]
    }
   ],
   "source": [
    "x=range(1000000)\n",
    "y=range(1000000, 2000000)\n",
    "\n",
    "start_time = time.time()\n",
    "\n",
    "c=[(x,y) for x,y in zip(x,y)]\n",
    "print(\"Time taken for list comprehension: \", time.time() - start_time)\n",
    "\n",
    "c=[x+y for x,y in zip(x,y)]\n",
    "print(\"Time taken for list comprehension with addition: \", \n",
    "      time.time() - start_time)"
   ]
  },
  {
   "cell_type": "code",
   "execution_count": 30,
   "id": "ffa190ea",
   "metadata": {},
   "outputs": [
    {
     "name": "stdout",
     "output_type": "stream",
     "text": [
      "Time taken for numpy array addition:  8.223222255706787\n"
     ]
    }
   ],
   "source": [
    "a = np.arange(100000000)\n",
    "b = np.arange(100000000, 200000000)\n",
    "\n",
    "start_time = time.time()\n",
    "\n",
    "c = a + b\n",
    "print(\"Time taken for numpy array addition: \", \n",
    "      time.time() - start_time)"
   ]
  },
  {
   "cell_type": "markdown",
   "id": "8d3a3ab6",
   "metadata": {},
   "source": [
    "## Indexing Slicing And Iteration"
   ]
  },
  {
   "cell_type": "markdown",
   "id": "f269b987",
   "metadata": {},
   "source": [
    "## ✅ 1. Indexing"
   ]
  },
  {
   "cell_type": "code",
   "execution_count": 31,
   "id": "61f33a0a",
   "metadata": {
    "notebookRunGroups": {
     "groupValue": "1"
    }
   },
   "outputs": [
    {
     "name": "stdout",
     "output_type": "stream",
     "text": [
      "10\n",
      "40\n"
     ]
    }
   ],
   "source": [
    "import numpy as np\n",
    "a = np.array([10, 20, 30, 40])\n",
    "print(a[0])     # 10\n",
    "print(a[-1])    # 40"
   ]
  },
  {
   "cell_type": "code",
   "execution_count": 32,
   "id": "a560e8b2",
   "metadata": {},
   "outputs": [
    {
     "name": "stdout",
     "output_type": "stream",
     "text": [
      "2\n",
      "3\n"
     ]
    }
   ],
   "source": [
    "b = np.array([[1, 2], [3, 4]])\n",
    "print(b[0, 1])  # 2\n",
    "print(b[1][0])  # 3"
   ]
  },
  {
   "cell_type": "code",
   "execution_count": 33,
   "id": "89a891a9",
   "metadata": {},
   "outputs": [
    {
     "data": {
      "text/plain": [
       "array([[ 0,  1,  2,  3],\n",
       "       [ 4,  5,  6,  7],\n",
       "       [ 8,  9, 10, 11],\n",
       "       [12, 13, 14, 15],\n",
       "       [16, 17, 18, 19],\n",
       "       [20, 21, 22, 23]])"
      ]
     },
     "execution_count": 33,
     "metadata": {},
     "output_type": "execute_result"
    }
   ],
   "source": [
    "arr12 = np.arange(24).reshape(6, 4)\n",
    "arr12 "
   ]
  },
  {
   "cell_type": "markdown",
   "id": "ecba0716",
   "metadata": {},
   "source": [
    "## ✅ 2. Slicing\n",
    "Extract a subarray using start:stop:step.\n",
    "\n",
    "👉 1D Slicing"
   ]
  },
  {
   "cell_type": "code",
   "execution_count": 34,
   "id": "2b9168d6",
   "metadata": {},
   "outputs": [
    {
     "name": "stdout",
     "output_type": "stream",
     "text": [
      "[20 30 40]\n",
      "[10 20 30]\n",
      "[10 30 50]\n"
     ]
    }
   ],
   "source": [
    "a = np.array([10, 20, 30, 40, 50])\n",
    "print(a[1:4])      # [20 30 40]\n",
    "print(a[:3])       # [10 20 30]\n",
    "print(a[::2])      # [10 30 50]"
   ]
  },
  {
   "cell_type": "code",
   "execution_count": 35,
   "id": "7408b589",
   "metadata": {},
   "outputs": [
    {
     "name": "stdout",
     "output_type": "stream",
     "text": [
      "[[2 3]\n",
      " [5 6]]\n"
     ]
    }
   ],
   "source": [
    "b = np.array([[1, 2, 3],\n",
    "            [4, 5, 6], \n",
    "            [7, 8, 9]])\n",
    "print(b[0:2, 1:])  # [[2 3] [5 6]]\n"
   ]
  },
  {
   "cell_type": "code",
   "execution_count": 36,
   "id": "8d6374fe",
   "metadata": {},
   "outputs": [
    {
     "data": {
      "text/plain": [
       "array([[ 1,  2],\n",
       "       [ 5,  6],\n",
       "       [ 9, 10],\n",
       "       [13, 14],\n",
       "       [17, 18],\n",
       "       [21, 22]])"
      ]
     },
     "execution_count": 36,
     "metadata": {},
     "output_type": "execute_result"
    }
   ],
   "source": [
    "arr12[:,2:4]\n",
    "arr12[:,1:3]  # Slicing to get specific columns\n"
   ]
  },
  {
   "cell_type": "code",
   "execution_count": 37,
   "id": "11b73409",
   "metadata": {},
   "outputs": [
    {
     "data": {
      "text/plain": [
       "array([[ 9, 10],\n",
       "       [13, 14]])"
      ]
     },
     "execution_count": 37,
     "metadata": {},
     "output_type": "execute_result"
    }
   ],
   "source": [
    "arr12[2:4, 1:3]  # Slicing to get specific rows and columns"
   ]
  },
  {
   "cell_type": "code",
   "execution_count": 38,
   "id": "3c0c5254",
   "metadata": {},
   "outputs": [
    {
     "data": {
      "text/plain": [
       "array([[18, 19],\n",
       "       [22, 23]])"
      ]
     },
     "execution_count": 38,
     "metadata": {},
     "output_type": "execute_result"
    }
   ],
   "source": [
    "arr12[4:, 2:]  # Slicing to get specific rows and columns"
   ]
  },
  {
   "cell_type": "markdown",
   "id": "1218fbe4",
   "metadata": {},
   "source": [
    "✅ 3. Iteration\n",
    "👉 Iterate Over 1D Array"
   ]
  },
  {
   "cell_type": "code",
   "execution_count": 39,
   "id": "bab7a0c5",
   "metadata": {},
   "outputs": [
    {
     "name": "stdout",
     "output_type": "stream",
     "text": [
      "1\n",
      "2\n",
      "3\n"
     ]
    }
   ],
   "source": [
    "#👉 Iterate Over 1D Array\n",
    "a = np.array([1, 2, 3])\n",
    "for i in a:\n",
    "    print(i)"
   ]
  },
  {
   "cell_type": "code",
   "execution_count": 40,
   "id": "d6efd7b7",
   "metadata": {},
   "outputs": [
    {
     "name": "stdout",
     "output_type": "stream",
     "text": [
      "1\n",
      "2\n",
      "3\n",
      "4\n"
     ]
    }
   ],
   "source": [
    "#👉 Iterate Over 2D Array\n",
    "b = np.array([[1, 2], [3, 4]])\n",
    "for row in b:\n",
    "    for val in row:\n",
    "        print(val)\n"
   ]
  },
  {
   "cell_type": "code",
   "execution_count": 41,
   "id": "3d5d27d8",
   "metadata": {},
   "outputs": [
    {
     "name": "stdout",
     "output_type": "stream",
     "text": [
      "[0 1 2 3]\n",
      "[4 5 6 7]\n",
      "[ 8  9 10 11]\n",
      "[12 13 14 15]\n",
      "[16 17 18 19]\n",
      "[20 21 22 23]\n"
     ]
    }
   ],
   "source": [
    "for i in arr12:\n",
    "    print(i)  # Print each row of the array"
   ]
  },
  {
   "cell_type": "code",
   "execution_count": 42,
   "id": "1fa11a8b",
   "metadata": {},
   "outputs": [
    {
     "name": "stdout",
     "output_type": "stream",
     "text": [
      "0\n",
      "1\n",
      "2\n",
      "3\n",
      "4\n",
      "5\n",
      "6\n",
      "7\n",
      "8\n",
      "9\n",
      "10\n",
      "11\n",
      "12\n",
      "13\n",
      "14\n",
      "15\n",
      "16\n",
      "17\n",
      "18\n",
      "19\n",
      "20\n",
      "21\n",
      "22\n",
      "23\n"
     ]
    }
   ],
   "source": [
    "for i in np.nditer(arr12):\n",
    "    print(i)  # Print each element of the array using nditer    "
   ]
  },
  {
   "cell_type": "code",
   "execution_count": null,
   "id": "c676e3f8",
   "metadata": {},
   "outputs": [],
   "source": []
  }
 ],
 "metadata": {
  "kernelspec": {
   "display_name": "Python 3",
   "language": "python",
   "name": "python3"
  },
  "language_info": {
   "codemirror_mode": {
    "name": "ipython",
    "version": 3
   },
   "file_extension": ".py",
   "mimetype": "text/x-python",
   "name": "python",
   "nbconvert_exporter": "python",
   "pygments_lexer": "ipython3",
   "version": "3.12.7"
  }
 },
 "nbformat": 4,
 "nbformat_minor": 5
}
